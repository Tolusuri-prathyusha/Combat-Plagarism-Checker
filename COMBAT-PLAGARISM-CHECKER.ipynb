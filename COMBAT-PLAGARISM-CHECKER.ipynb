{
 "cells": [
  {
   "cell_type": "markdown",
   "id": "38498b6b",
   "metadata": {},
   "source": [
    "# Import necessary libraries"
   ]
  },
  {
   "cell_type": "code",
   "execution_count": 7,
   "id": "8628531e",
   "metadata": {},
   "outputs": [],
   "source": [
    "import os"
   ]
  },
  {
   "cell_type": "code",
   "execution_count": 8,
   "id": "6ef30a45",
   "metadata": {},
   "outputs": [],
   "source": [
    "from sklearn.feature_extraction.text import TfidfVectorizer"
   ]
  },
  {
   "cell_type": "code",
   "execution_count": 9,
   "id": "e18473d4",
   "metadata": {},
   "outputs": [],
   "source": [
    "from sklearn.metrics.pairwise import cosine_similarity"
   ]
  },
  {
   "cell_type": "markdown",
   "id": "85c44592",
   "metadata": {},
   "source": [
    "# Get a list of text files in the current directory"
   ]
  },
  {
   "cell_type": "code",
   "execution_count": 10,
   "id": "a92ac831",
   "metadata": {},
   "outputs": [],
   "source": [
    "student_files = [doc for doc in os.listdir() if doc.endswith('.txt')]"
   ]
  },
  {
   "cell_type": "code",
   "execution_count": null,
   "id": "1aff60b4",
   "metadata": {},
   "outputs": [],
   "source": [
    "# Read the content of each text file and store it in a list"
   ]
  },
  {
   "cell_type": "markdown",
   "id": "cb199c22",
   "metadata": {},
   "source": [
    "# Read the content of each text file and store it in a list"
   ]
  },
  {
   "cell_type": "code",
   "execution_count": 11,
   "id": "fe62450d",
   "metadata": {},
   "outputs": [],
   "source": [
    "student_notes = [open(_file, encoding='utf-8').read()for _file in student_files]"
   ]
  },
  {
   "cell_type": "code",
   "execution_count": 12,
   "id": "fe34a2e3",
   "metadata": {},
   "outputs": [
    {
     "data": {
      "text/plain": [
       "['Life is all about doing your best in trying to\\nfind what works out for you and taking most time in\\ntrying to pursue those skills ',\n",
       " 'Life is all about finding money and spending on luxury stuffs\\nCoz this life is kinda short , trust ',\n",
       " 'Life to me is about finding money and use it on things that makes you happy\\ncoz this life is kinda short ']"
      ]
     },
     "execution_count": 12,
     "metadata": {},
     "output_type": "execute_result"
    }
   ],
   "source": [
    "student_notes"
   ]
  },
  {
   "cell_type": "markdown",
   "id": "37ace51b",
   "metadata": {},
   "source": [
    "# Define a function to vectorize the text using TF-IDF"
   ]
  },
  {
   "cell_type": "code",
   "execution_count": 13,
   "id": "a37360f2",
   "metadata": {},
   "outputs": [],
   "source": [
    "def vectorize(Text):\n",
    "    return TfidfVectorizer().fit_transform(Text).toarray()"
   ]
  },
  {
   "cell_type": "markdown",
   "id": "d05204a2",
   "metadata": {},
   "source": [
    "# Define a function to calculate cosine similarity between two vectors"
   ]
  },
  {
   "cell_type": "code",
   "execution_count": 14,
   "id": "0729ca74",
   "metadata": {},
   "outputs": [],
   "source": [
    "def similarity(doc1, doc2):\n",
    "    return cosine_similarity([doc1, doc2])\n"
   ]
  },
  {
   "cell_type": "markdown",
   "id": "3357352c",
   "metadata": {},
   "source": [
    "# Vectorize the notes using TF-IDF"
   ]
  },
  {
   "cell_type": "code",
   "execution_count": 15,
   "id": "8c0ffed4",
   "metadata": {},
   "outputs": [],
   "source": [
    "vectors = vectorize(student_notes)"
   ]
  },
  {
   "cell_type": "markdown",
   "id": "41edef4a",
   "metadata": {},
   "source": [
    "# Combine student filenames with their corresponding TF-IDF vectors"
   ]
  },
  {
   "cell_type": "code",
   "execution_count": null,
   "id": "eac089df",
   "metadata": {},
   "outputs": [],
   "source": [
    "s_vectors = list(zip(student_files, vectors))"
   ]
  },
  {
   "cell_type": "code",
   "execution_count": 18,
   "id": "cccf99b8",
   "metadata": {},
   "outputs": [],
   "source": [
    "plagiarism_results = set()"
   ]
  },
  {
   "cell_type": "markdown",
   "id": "da5c690f",
   "metadata": {},
   "source": [
    "# Define a function to check plagiarism"
   ]
  },
  {
   "cell_type": "code",
   "execution_count": 19,
   "id": "d04cb7ae",
   "metadata": {},
   "outputs": [],
   "source": [
    "def check_plagiarism():\n",
    "    global s_vectors\n",
    "    for student_a, text_vector_a in s_vectors:\n",
    "        new_vectors = s_vectors.copy()\n",
    "        current_index = new_vectors.index((student_a, text_vector_a))\n",
    "        del new_vectors[current_index]\n",
    "        for student_b, text_vector_b in new_vectors:\n",
    "            sim_score = similarity(text_vector_a, text_vector_b)[0][1]\n",
    "            student_pair = sorted((student_a, student_b))\n",
    "            score = (student_pair[0], student_pair[1], sim_score)\n",
    "            plagiarism_results.add(score)\n",
    "    return plagiarism_results"
   ]
  },
  {
   "cell_type": "markdown",
   "id": "07ddaef3",
   "metadata": {},
   "source": [
    "# Print the plagiarism check results"
   ]
  },
  {
   "cell_type": "code",
   "execution_count": 20,
   "id": "3bca889f",
   "metadata": {},
   "outputs": [
    {
     "name": "stdout",
     "output_type": "stream",
     "text": [
      "('fatma.txt', 'john.txt', 0.14806887549598563)\n",
      "('john.txt', 'juma.txt', 0.5465972177348937)\n",
      "('fatma.txt', 'juma.txt', 0.18643448370323357)\n"
     ]
    }
   ],
   "source": [
    "for data in check_plagiarism():\n",
    "    print(data)\n"
   ]
  },
  {
   "cell_type": "code",
   "execution_count": null,
   "id": "439ce060",
   "metadata": {},
   "outputs": [],
   "source": []
  }
 ],
 "metadata": {
  "kernelspec": {
   "display_name": "Python 3 (ipykernel)",
   "language": "python",
   "name": "python3"
  },
  "language_info": {
   "codemirror_mode": {
    "name": "ipython",
    "version": 3
   },
   "file_extension": ".py",
   "mimetype": "text/x-python",
   "name": "python",
   "nbconvert_exporter": "python",
   "pygments_lexer": "ipython3",
   "version": "3.11.5"
  }
 },
 "nbformat": 4,
 "nbformat_minor": 5
}
